{
 "cells": [
  {
   "cell_type": "raw",
   "metadata": {},
   "source": [
    "1. Título"
   ]
  },
  {
   "cell_type": "raw",
   "metadata": {},
   "source": [
    "2. Membros (nome e número de matrícula)"
   ]
  },
  {
   "cell_type": "raw",
   "metadata": {},
   "source": [
    "3. Descrição dos dados (qual a URL? qual o domínio? como os dados foram processados?)"
   ]
  },
  {
   "cell_type": "raw",
   "metadata": {},
   "source": [
    "4. Diagrama ER"
   ]
  },
  {
   "cell_type": "raw",
   "metadata": {},
   "source": [
    "5. Diagrama relacional"
   ]
  },
  {
   "cell_type": "raw",
   "metadata": {},
   "source": [
    "6. Consultas"
   ]
  },
  {
   "cell_type": "raw",
   "metadata": {},
   "source": [
    "6.1 Duas consultas envolvendo seleção e projeção"
   ]
  },
  {
   "cell_type": "raw",
   "metadata": {},
   "source": [
    "6.1.1 Consulta 1 (duas versões)"
   ]
  },
  {
   "cell_type": "raw",
   "metadata": {},
   "source": [
    "6.1.2 Consulta 2 (duas versões)"
   ]
  },
  {
   "cell_type": "raw",
   "metadata": {},
   "source": [
    "6.2 Três consultas envolvendo junção de duas relações"
   ]
  },
  {
   "cell_type": "raw",
   "metadata": {},
   "source": [
    "6.2.1 Consulta 3 (duas versões)"
   ]
  },
  {
   "cell_type": "raw",
   "metadata": {},
   "source": [
    "6.2.2 Consulta 4 (duas versões)"
   ]
  },
  {
   "cell_type": "raw",
   "metadata": {},
   "source": [
    "6.2.3 Consulta 5 (duas versões)"
   ]
  },
  {
   "cell_type": "raw",
   "metadata": {},
   "source": [
    "6.3 Três consultas envolvendo junção de três ou mais relações"
   ]
  },
  {
   "cell_type": "raw",
   "metadata": {},
   "source": [
    "6.3.1 Consulta 6 (duas versões)"
   ]
  },
  {
   "cell_type": "raw",
   "metadata": {},
   "source": [
    "6.3.2 Consulta 7 (duas versões)"
   ]
  },
  {
   "cell_type": "raw",
   "metadata": {},
   "source": [
    "6.3.3 Consulta 8 (duas versões)"
   ]
  },
  {
   "cell_type": "raw",
   "metadata": {},
   "source": [
    "6.4 Duas consultas envolvendo agregação sobre junção de duas ou mais relações"
   ]
  },
  {
   "cell_type": "raw",
   "metadata": {},
   "source": [
    "6.4.1 Consulta 9 (duas versões)"
   ]
  },
  {
   "cell_type": "raw",
   "metadata": {},
   "source": [
    "6.4.2 Consulta 10 (duas versões)"
   ]
  },
  {
   "cell_type": "raw",
   "metadata": {},
   "source": [
    "7. Autoavaliação dos membros"
   ]
  }
 ],
 "metadata": {
  "kernelspec": {
   "display_name": "Python 3",
   "language": "python",
   "name": "python3"
  },
  "language_info": {
   "codemirror_mode": {
    "name": "ipython",
    "version": 3
   },
   "file_extension": ".py",
   "mimetype": "text/x-python",
   "name": "python",
   "nbconvert_exporter": "python",
   "pygments_lexer": "ipython3",
   "version": "3.6.3"
  }
 },
 "nbformat": 4,
 "nbformat_minor": 2
}
